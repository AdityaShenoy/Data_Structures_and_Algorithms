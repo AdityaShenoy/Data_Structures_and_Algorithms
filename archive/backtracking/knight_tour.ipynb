{
 "cells": [
  {
   "cell_type": "code",
   "execution_count": 2,
   "metadata": {},
   "outputs": [],
   "source": [
    "import numpy as np\n",
    "\n",
    "def knight_tour(n):\n",
    "    board = [[-1 for i in range(n)] for j in range(n)]\n",
    "    knight_tour_helper(n = n, board = board, x = 0, y = 0, counter = 0)\n",
    "    print(np.array(board))"
   ]
  },
  {
   "cell_type": "code",
   "execution_count": 3,
   "metadata": {},
   "outputs": [],
   "source": [
    "def knight_tour_helper(n, board, x, y, counter):\n",
    "    if counter == n * n:\n",
    "        return True\n",
    "    if (x < 0) or (x >= n) or (y < 0) or (y >= n) or board[y][x] != -1:\n",
    "        return False\n",
    "    board[y][x] = counter\n",
    "    for x_move, y_move in zip([-2, -2, -1, -1, 1, 1, 2, 2], [-1, 1, -2, 2, -2, 2, -1, 1]):\n",
    "        if knight_tour_helper(n, board, x + x_move, y + y_move, counter + 1):\n",
    "            return True\n",
    "    board[y][x] = -1\n",
    "    return False"
   ]
  },
  {
   "cell_type": "code",
   "execution_count": 12,
   "metadata": {},
   "outputs": [
    {
     "name": "stdout",
     "output_type": "stream",
     "text": [
      "[[ 0  9 22 27 20 45 48]\n",
      " [11  6 19 46 23 28 25]\n",
      " [ 8  1 10 21 26 47 44]\n",
      " [ 5 12  7 18 37 24 29]\n",
      " [ 2 15  4 33 30 43 40]\n",
      " [13 34 17 38 41 36 31]\n",
      " [16  3 14 35 32 39 42]]\n"
     ]
    }
   ],
   "source": [
    "knight_tour(7)"
   ]
  }
 ],
 "metadata": {
  "kernelspec": {
   "display_name": "Python 3",
   "language": "python",
   "name": "python3"
  },
  "language_info": {
   "codemirror_mode": {
    "name": "ipython",
    "version": 3
   },
   "file_extension": ".py",
   "mimetype": "text/x-python",
   "name": "python",
   "nbconvert_exporter": "python",
   "pygments_lexer": "ipython3",
   "version": "3.7.4"
  }
 },
 "nbformat": 4,
 "nbformat_minor": 4
}
