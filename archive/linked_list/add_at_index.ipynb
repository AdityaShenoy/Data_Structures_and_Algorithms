{
 "cells": [
  {
   "cell_type": "code",
   "execution_count": 1,
   "metadata": {},
   "outputs": [],
   "source": [
    "class Node:\n",
    "    def __init__(self, data):\n",
    "        self.data = data\n",
    "        self.next = None"
   ]
  },
  {
   "cell_type": "code",
   "execution_count": 4,
   "metadata": {},
   "outputs": [],
   "source": [
    "class LinkedList:\n",
    "    def __init__(self):\n",
    "        self.head = None\n",
    "        \n",
    "    def __str__(self):\n",
    "        result = []\n",
    "        node = self.head\n",
    "        while node:\n",
    "            result.append(f'{node.data}')\n",
    "            node = node.next\n",
    "        return ' → '.join(result)\n",
    "    \n",
    "    def add_at_index(self, index, data):\n",
    "        if index < 0:\n",
    "            raise IndexError('Negative index is not valid')\n",
    "        if index == 0:\n",
    "            new_node = Node(data)\n",
    "            new_node.next = self.head\n",
    "            self.head = new_node\n",
    "            return\n",
    "        prev = None\n",
    "        node = self.head\n",
    "        counter = 0\n",
    "        while node:\n",
    "            if counter == index:\n",
    "                new_node = Node(data)\n",
    "                prev.next = new_node\n",
    "                new_node.next = node\n",
    "                return\n",
    "            counter += 1\n",
    "            prev = node\n",
    "            node = node.next\n",
    "        if counter == index:\n",
    "            new_node = Node(data)\n",
    "            prev.next = new_node\n",
    "        else:\n",
    "            raise IndexError('Index cannot be greater than the length of the list')"
   ]
  },
  {
   "cell_type": "code",
   "execution_count": 9,
   "metadata": {},
   "outputs": [
    {
     "name": "stdout",
     "output_type": "stream",
     "text": [
      "\n",
      "1\n",
      "1 → 2\n",
      "1 → 3 → 2\n"
     ]
    },
    {
     "ename": "IndexError",
     "evalue": "Index cannot be greater than the length of the list",
     "output_type": "error",
     "traceback": [
      "\u001b[1;31m---------------------------------------------------------------------------\u001b[0m",
      "\u001b[1;31mIndexError\u001b[0m                                Traceback (most recent call last)",
      "\u001b[1;32m<ipython-input-9-95d4d9890232>\u001b[0m in \u001b[0;36m<module>\u001b[1;34m\u001b[0m\n\u001b[0;32m      7\u001b[0m \u001b[0mlinked_list\u001b[0m\u001b[1;33m.\u001b[0m\u001b[0madd_at_index\u001b[0m\u001b[1;33m(\u001b[0m\u001b[1;36m1\u001b[0m\u001b[1;33m,\u001b[0m \u001b[1;36m3\u001b[0m\u001b[1;33m)\u001b[0m\u001b[1;33m\u001b[0m\u001b[1;33m\u001b[0m\u001b[0m\n\u001b[0;32m      8\u001b[0m \u001b[0mprint\u001b[0m\u001b[1;33m(\u001b[0m\u001b[0mlinked_list\u001b[0m\u001b[1;33m)\u001b[0m\u001b[1;33m\u001b[0m\u001b[1;33m\u001b[0m\u001b[0m\n\u001b[1;32m----> 9\u001b[1;33m \u001b[0mlinked_list\u001b[0m\u001b[1;33m.\u001b[0m\u001b[0madd_at_index\u001b[0m\u001b[1;33m(\u001b[0m\u001b[1;36m4\u001b[0m\u001b[1;33m,\u001b[0m \u001b[1;36m4\u001b[0m\u001b[1;33m)\u001b[0m\u001b[1;33m\u001b[0m\u001b[1;33m\u001b[0m\u001b[0m\n\u001b[0m",
      "\u001b[1;32m<ipython-input-4-8816345e5a61>\u001b[0m in \u001b[0;36madd_at_index\u001b[1;34m(self, index, data)\u001b[0m\n\u001b[0;32m     35\u001b[0m             \u001b[0mprev\u001b[0m\u001b[1;33m.\u001b[0m\u001b[0mnext\u001b[0m \u001b[1;33m=\u001b[0m \u001b[0mnew_node\u001b[0m\u001b[1;33m\u001b[0m\u001b[1;33m\u001b[0m\u001b[0m\n\u001b[0;32m     36\u001b[0m         \u001b[1;32melse\u001b[0m\u001b[1;33m:\u001b[0m\u001b[1;33m\u001b[0m\u001b[1;33m\u001b[0m\u001b[0m\n\u001b[1;32m---> 37\u001b[1;33m             \u001b[1;32mraise\u001b[0m \u001b[0mIndexError\u001b[0m\u001b[1;33m(\u001b[0m\u001b[1;34m'Index cannot be greater than the length of the list'\u001b[0m\u001b[1;33m)\u001b[0m\u001b[1;33m\u001b[0m\u001b[1;33m\u001b[0m\u001b[0m\n\u001b[0m",
      "\u001b[1;31mIndexError\u001b[0m: Index cannot be greater than the length of the list"
     ]
    }
   ],
   "source": [
    "linked_list = LinkedList()\n",
    "print(linked_list)\n",
    "linked_list.add_at_index(0, 1)\n",
    "print(linked_list)\n",
    "linked_list.add_at_index(1, 2)\n",
    "print(linked_list)\n",
    "linked_list.add_at_index(1, 3)\n",
    "print(linked_list)\n",
    "linked_list.add_at_index(4, 4)"
   ]
  }
 ],
 "metadata": {
  "kernelspec": {
   "display_name": "Python 3",
   "language": "python",
   "name": "python3"
  },
  "language_info": {
   "codemirror_mode": {
    "name": "ipython",
    "version": 3
   },
   "file_extension": ".py",
   "mimetype": "text/x-python",
   "name": "python",
   "nbconvert_exporter": "python",
   "pygments_lexer": "ipython3",
   "version": "3.7.4"
  }
 },
 "nbformat": 4,
 "nbformat_minor": 4
}
