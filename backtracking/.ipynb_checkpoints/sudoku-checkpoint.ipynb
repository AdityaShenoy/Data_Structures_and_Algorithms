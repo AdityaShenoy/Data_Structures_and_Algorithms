{
 "cells": [
  {
   "cell_type": "code",
   "execution_count": 5,
   "metadata": {},
   "outputs": [
    {
     "name": "stdout",
     "output_type": "stream",
     "text": [
      "[[1 0 8 9 0 0 0 4 0]\n",
      " [0 4 3 8 0 0 0 2 7]\n",
      " [0 0 0 0 0 0 0 0 0]\n",
      " [0 0 0 1 0 7 0 0 2]\n",
      " [0 0 9 0 4 2 0 0 6]\n",
      " [7 2 4 0 6 0 3 1 0]\n",
      " [0 0 1 6 0 5 9 7 4]\n",
      " [8 0 0 7 0 0 0 0 1]\n",
      " [0 6 7 2 1 9 8 0 5]]\n",
      "\n",
      "[[1 7 8 9 2 6 5 4 3]\n",
      " [9 4 3 8 5 1 6 2 7]\n",
      " [6 5 2 4 7 3 1 9 8]\n",
      " [3 8 6 1 9 7 4 5 2]\n",
      " [5 1 9 3 4 2 7 8 6]\n",
      " [7 2 4 5 6 8 3 1 9]\n",
      " [2 3 1 6 8 5 9 7 4]\n",
      " [8 9 5 7 3 4 2 6 1]\n",
      " [4 6 7 2 1 9 8 3 5]]\n"
     ]
    }
   ],
   "source": [
    "import numpy as np\n",
    "\n",
    "def sudoku_solver(sudoku_board):\n",
    "    for row in range(9):\n",
    "        for col in range(9):\n",
    "            if sudoku_board[row][col] == 0:\n",
    "                allowed_numbers = set(range(1, 10))\n",
    "                for cntr in range(9):\n",
    "                    allowed_numbers -= {sudoku_board[row][cntr]}\n",
    "                    allowed_numbers -= {sudoku_board[cntr][col]}\n",
    "                box_row_start = (row // 3) * 3\n",
    "                box_col_start = (col // 3) * 3\n",
    "                for box_row in range(box_row_start, box_row_start + 3):\n",
    "                    for box_col in range(box_col_start, box_col_start + 3):\n",
    "                        allowed_numbers -= {sudoku_board[box_row][box_col]}\n",
    "                for allowed_number in allowed_numbers:\n",
    "                    sudoku_board[row][col] = allowed_number\n",
    "                    if sudoku_solver(sudoku_board):\n",
    "                        return True\n",
    "                sudoku_board[row][col] = 0\n",
    "                return False\n",
    "    return True\n",
    "\n",
    "sudoku_board = np.array([\n",
    "    list(map(int, '108900040')),\n",
    "    list(map(int, '043800027')),\n",
    "    list(map(int, '000000000')),\n",
    "    list(map(int, '000107002')),\n",
    "    list(map(int, '009042006')),\n",
    "    list(map(int, '724060310')),\n",
    "    list(map(int, '001605974')),\n",
    "    list(map(int, '800700001')),\n",
    "    list(map(int, '067219805'))\n",
    "])\n",
    "\n",
    "print(sudoku_board)\n",
    "print()\n",
    "if sudoku_solver(sudoku_board):\n",
    "    print(sudoku_board)\n",
    "else:\n",
    "    print('No solution exists!')"
   ]
  }
 ],
 "metadata": {
  "kernelspec": {
   "display_name": "Python 3",
   "language": "python",
   "name": "python3"
  },
  "language_info": {
   "codemirror_mode": {
    "name": "ipython",
    "version": 3
   },
   "file_extension": ".py",
   "mimetype": "text/x-python",
   "name": "python",
   "nbconvert_exporter": "python",
   "pygments_lexer": "ipython3",
   "version": "3.7.4"
  }
 },
 "nbformat": 4,
 "nbformat_minor": 4
}
