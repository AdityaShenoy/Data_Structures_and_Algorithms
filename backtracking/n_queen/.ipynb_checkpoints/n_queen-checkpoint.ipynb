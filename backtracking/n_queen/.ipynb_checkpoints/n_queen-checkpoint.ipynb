{
 "cells": [
  {
   "cell_type": "code",
   "execution_count": null,
   "metadata": {},
   "outputs": [],
   "source": [
    "def n_queen(n):\n",
    "    not_allowed = {'cols': set(), 'diag1': set(), 'diag2': set()}\n",
    "    result = set()\n",
    "    n_queen_helper(n, 0, not_allowed, result)\n",
    "    \n",
    "\n",
    "def n_queen_helper(n, row, not_allowed, result):\n",
    "    if row == n:\n",
    "        return True\n",
    "    for col in range(n):\n",
    "        \n",
    "        if col in not_allowed['cols'] or \\\n",
    "                (row - col) in not_allowed['diag1'] or \\\n",
    "                (row + col) in not_allowed['diag2']:\n",
    "            continue\n",
    "        \n",
    "        result.add((row, col))\n",
    "        not_allowed['cols'].add(col)\n",
    "        not_allowed['diag1'].add(row - col)\n",
    "        not_allowed['diag2'].add(row + col)\n",
    "        \n",
    "        if n_queen_helper(n, row + 1, not_allowed, result):\n",
    "            return True\n",
    "        \n",
    "        result.remove((row, col))\n",
    "        not_allowed['cols'].remove(col)\n",
    "        not_allowed['diag1'].remove(row - col)\n",
    "        not_allowed['diag2'].remove(row + col)\n",
    "        \n",
    "    return False"
   ]
  }
 ],
 "metadata": {
  "kernelspec": {
   "display_name": "Python 3",
   "language": "python",
   "name": "python3"
  },
  "language_info": {
   "codemirror_mode": {
    "name": "ipython",
    "version": 3
   },
   "file_extension": ".py",
   "mimetype": "text/x-python",
   "name": "python",
   "nbconvert_exporter": "python",
   "pygments_lexer": "ipython3",
   "version": "3.7.4"
  }
 },
 "nbformat": 4,
 "nbformat_minor": 4
}
