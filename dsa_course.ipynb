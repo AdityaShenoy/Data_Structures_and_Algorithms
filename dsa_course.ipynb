{
 "cells": [
  {
   "cell_type": "markdown",
   "source": [
    "# Index\r\n",
    "\r\n",
    "Data Structures\r\n",
    "\r\n",
    "Algorithms\r\n",
    "- [Searching](#Searching)\r\n",
    "    - [Linear Search](#Linear-Search)\r\n",
    "    - [Linear Search Dry Run](#Linear-Search-Dry-Run)\r\n",
    "    - [Binary Search](#Binary-Search)\r\n",
    "    - [Binary Search Dry Run](#Binary-Search-Dry-Run)\r\n",
    "- Sorting"
   ],
   "metadata": {}
  },
  {
   "cell_type": "markdown",
   "source": [
    "# Searching"
   ],
   "metadata": {}
  },
  {
   "cell_type": "markdown",
   "source": [
    "## Linear Search\r\n",
    "Time: O(n)  \r\n",
    "Space: O(1)"
   ],
   "metadata": {}
  },
  {
   "cell_type": "code",
   "execution_count": null,
   "source": [
    "def linear_search(arr, key):\r\n",
    "    for ind, elem in enumerate(arr):\r\n",
    "        if elem == key:\r\n",
    "            return ind\r\n",
    "    return -1\r\n",
    "\r\n",
    "linear_search(\r\n",
    "    [1, 8, 9, 3, 8, 2],\r\n",
    "    8\r\n",
    ")"
   ],
   "outputs": [],
   "metadata": {}
  },
  {
   "cell_type": "markdown",
   "source": [
    "## Linear Search Dry Run"
   ],
   "metadata": {}
  },
  {
   "cell_type": "code",
   "execution_count": null,
   "source": [
    "from dry_run import Debugger\r\n",
    "\r\n",
    "def linear_search(arr, key):\r\n",
    "    db.render(\r\n",
    "        line_num=0,\r\n",
    "        vars={'arr': arr, 'key': key},\r\n",
    "        calc_text=f'def linear_search({arr}, {key}):'\r\n",
    "    )\r\n",
    "\r\n",
    "    for ind, elem in enumerate(arr):\r\n",
    "        db.render(\r\n",
    "            line_num=1,\r\n",
    "            vars={'ind': ind, 'elem': elem}\r\n",
    "        )\r\n",
    "\r\n",
    "        db.render(\r\n",
    "            line_num=2,\r\n",
    "            calc_text=f'if {elem} == {key}:'\r\n",
    "        )\r\n",
    "        if elem == key:\r\n",
    "\r\n",
    "            db.render(\r\n",
    "                line_num=3,\r\n",
    "                calc_text=f'return {ind}'\r\n",
    "            )\r\n",
    "            return ind\r\n",
    "\r\n",
    "    db.render(\r\n",
    "        line_num=4\r\n",
    "    )\r\n",
    "    return -1\r\n",
    "\r\n",
    "db = Debugger(code_lines=[\r\n",
    "    'def linear_search(arr, key):',\r\n",
    "    '    for ind, elem in enumerate(arr):',\r\n",
    "    '        if elem == key:',\r\n",
    "    '            return ind',\r\n",
    "    '    return -1',\r\n",
    "])\r\n",
    "\r\n",
    "res = linear_search(\r\n",
    "    [1, 8, 9, 3, 8, 2],\r\n",
    "    2\r\n",
    ")"
   ],
   "outputs": [],
   "metadata": {}
  },
  {
   "cell_type": "markdown",
   "source": [
    "## Binary Search\r\n",
    "Time: O(log n)  \r\n",
    "Space: O(1)"
   ],
   "metadata": {}
  },
  {
   "cell_type": "code",
   "execution_count": null,
   "source": [
    "def binary_search(arr, key):\r\n",
    "    low, high = 0, len(arr) - 1\r\n",
    "    while low <= high:\r\n",
    "        mid = (low + high) // 2\r\n",
    "        if arr[mid] == key:\r\n",
    "            return mid\r\n",
    "        elif arr[mid] > key:\r\n",
    "            high = mid - 1\r\n",
    "        else:\r\n",
    "            low = mid + 1\r\n",
    "    return -1\r\n",
    "\r\n",
    "binary_search(\r\n",
    "    [1, 3, 4, 8, 9, 11],\r\n",
    "    8\r\n",
    ")"
   ],
   "outputs": [],
   "metadata": {}
  },
  {
   "cell_type": "markdown",
   "source": [
    "## Binary Search Dry Run"
   ],
   "metadata": {}
  },
  {
   "cell_type": "code",
   "execution_count": 1,
   "source": [
    "from dry_run import Debugger\r\n",
    "\r\n",
    "def binary_search(arr, key):\r\n",
    "    db.render(\r\n",
    "        line_num=0,\r\n",
    "        vars={'arr': arr, 'key': key},\r\n",
    "        calc_text=f'def binary_search({arr}, {key}):'\r\n",
    "    )\r\n",
    "\r\n",
    "    low, high = 0, len(arr) - 1\r\n",
    "    db.render(\r\n",
    "        line_num=1,\r\n",
    "        vars={'low': low, 'high': high},\r\n",
    "        calc_text=f'low, high = 0, {len(arr)} - 1'\r\n",
    "    )\r\n",
    "\r\n",
    "    while True:\r\n",
    "        db.render(\r\n",
    "            line_num=2,\r\n",
    "            calc_text=f'while {low} <= {high}'\r\n",
    "        )\r\n",
    "        if low > high:\r\n",
    "            break\r\n",
    "\r\n",
    "        mid = (low + high) // 2\r\n",
    "        db.render(\r\n",
    "            line_num=3,\r\n",
    "            vars={'mid': mid},\r\n",
    "            calc_text=f'mid = ({low} + {high}) // 2'\r\n",
    "        )\r\n",
    "\r\n",
    "        db.render(\r\n",
    "            line_num=4,\r\n",
    "            vars={'arr[mid]': arr[mid]},\r\n",
    "            calc_text=f'if {arr[mid]} == {key}'\r\n",
    "        )\r\n",
    "        if arr[mid] == key:\r\n",
    "\r\n",
    "            db.render(\r\n",
    "                line_num=5,\r\n",
    "                calc_text=f'return {mid}'\r\n",
    "            )\r\n",
    "            return mid\r\n",
    "        else:\r\n",
    "\r\n",
    "            db.render(\r\n",
    "                line_num=6,\r\n",
    "                calc_text=f'elif {arr[mid]} > {key}'\r\n",
    "            )\r\n",
    "            if arr[mid] > key:\r\n",
    "\r\n",
    "                high = mid - 1\r\n",
    "                db.render(\r\n",
    "                    line_num=7,\r\n",
    "                    vars={'high': high},\r\n",
    "                    calc_text=f'high = {mid} - 1'\r\n",
    "                )\r\n",
    "\r\n",
    "            else:\r\n",
    "\r\n",
    "                low = mid + 1\r\n",
    "                db.render(\r\n",
    "                    line_num=9,\r\n",
    "                    vars={'low': low},\r\n",
    "                    calc_text=f'low = {mid} + 1'\r\n",
    "                )\r\n",
    "    db.render(\r\n",
    "        line_num=10\r\n",
    "    )\r\n",
    "    return -1\r\n",
    "\r\n",
    "db = Debugger(code_lines=[\r\n",
    "    'def binary_search(arr, key):',\r\n",
    "    '    low, high = 0, len(arr) - 1',\r\n",
    "    '    while low <= high:',\r\n",
    "    '        mid = (low + high) // 2',\r\n",
    "    '        if arr[mid] == key:',\r\n",
    "    '            return mid',\r\n",
    "    '        elif arr[mid] > key:',\r\n",
    "    '            high = mid - 1',\r\n",
    "    '        else:',\r\n",
    "    '            low = mid + 1',\r\n",
    "    '    return -1',\r\n",
    "])\r\n",
    "\r\n",
    "res = binary_search(\r\n",
    "    [1, 3, 4, 8, 9, 11],\r\n",
    "    8\r\n",
    ")"
   ],
   "outputs": [
    {
     "output_type": "stream",
     "name": "stdout",
     "text": [
      "• CODE\n",
      "  def binary_search(arr, key):\n",
      "      low, high = 0, len(arr) - 1\n",
      "      while low <= high:\n",
      "          mid = (low + high) // 2\n",
      "          if arr[mid] == key:\n",
      "→             return mid\n",
      "          elif arr[mid] > key:\n",
      "              high = mid - 1\n",
      "          else:\n",
      "              low = mid + 1\n",
      "      return -1\n",
      "\n",
      "• VARIABLES\n",
      "arr = [1, 3, 4, 8, 9, 11]\n",
      "key = 8\n",
      "low = 3\n",
      "high = 3\n",
      "mid = 3\n",
      "arr[mid] = 8\n",
      "\n",
      "• CALCULATIONS\n",
      "return 3\n"
     ]
    }
   ],
   "metadata": {}
  }
 ],
 "metadata": {
  "orig_nbformat": 4,
  "language_info": {
   "name": "python",
   "version": "3.7.0b1",
   "mimetype": "text/x-python",
   "codemirror_mode": {
    "name": "ipython",
    "version": 3
   },
   "pygments_lexer": "ipython3",
   "nbconvert_exporter": "python",
   "file_extension": ".py"
  },
  "kernelspec": {
   "name": "python3",
   "display_name": "Python 3.7.0b1 64-bit"
  },
  "interpreter": {
   "hash": "ad78da7eff6f053e335d7a6b0bfad929fc8c61119cb7fcc9819062c63177be24"
  }
 },
 "nbformat": 4,
 "nbformat_minor": 2
}