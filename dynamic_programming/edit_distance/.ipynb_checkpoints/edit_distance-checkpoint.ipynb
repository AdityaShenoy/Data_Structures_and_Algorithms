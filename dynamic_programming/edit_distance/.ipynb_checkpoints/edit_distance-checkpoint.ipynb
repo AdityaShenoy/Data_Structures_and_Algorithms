{
 "cells": [
  {
   "cell_type": "markdown",
   "metadata": {},
   "source": [
    "abx_, bcd_"
   ]
  },
  {
   "cell_type": "code",
   "execution_count": 3,
   "metadata": {},
   "outputs": [
    {
     "data": {
      "text/plain": [
       "3"
      ]
     },
     "execution_count": 3,
     "metadata": {},
     "output_type": "execute_result"
    }
   ],
   "source": [
    "def edit_distance(str1, str2):\n",
    "    return edit_distance_helper(str1, str2, len(str1), len(str2))\n",
    "\n",
    "def edit_distance_helper(str1, str2, str1_idx, str2_idx):\n",
    "    if str1_idx == 0:\n",
    "        return str2_idx\n",
    "    if str2_idx == 0:\n",
    "        return str1_idx\n",
    "    if str1[str1_idx - 1] == str2[str2_idx - 1]:\n",
    "        return edit_distance_helper(str1, str2, str1_idx - 1, str2_idx - 1)\n",
    "    return 1 + min(\n",
    "        edit_distance_helper(str1, str2, str1_idx, str2_idx - 1),\n",
    "        edit_distance_helper(str1, str2, str1_idx - 1, str2_idx),\n",
    "        edit_distance_helper(str1, str2, str1_idx - 1, str2_idx - 1)\n",
    "    )\n",
    "\n",
    "edit_distance('abx', 'bcd')"
   ]
  },
  {
   "cell_type": "code",
   "execution_count": 4,
   "metadata": {},
   "outputs": [
    {
     "data": {
      "text/plain": [
       "3"
      ]
     },
     "execution_count": 4,
     "metadata": {},
     "output_type": "execute_result"
    }
   ],
   "source": [
    "def edit_distance(str1, str2):\n",
    "    return edit_distance_helper(str1, str2, len(str1), len(str2), dict())\n",
    "\n",
    "def edit_distance_helper(str1, str2, str1_idx, str2_idx, dp):\n",
    "    if (str1_idx, str2_idx) in dp:\n",
    "        return dp[(str1_idx, str2_idx)]\n",
    "    if str1_idx == 0:\n",
    "        dp[(str1_idx, str2_idx)] = str2_idx\n",
    "        return dp[(str1_idx, str2_idx)]\n",
    "    if str2_idx == 0:\n",
    "        dp[(str1_idx, str2_idx)] = str1_idx\n",
    "        return dp[(str1_idx, str2_idx)]\n",
    "    if str1[str1_idx - 1] == str2[str2_idx - 1]:\n",
    "        dp[(str1_idx, str2_idx)] = edit_distance_helper(str1, str2, str1_idx - 1, str2_idx - 1, dp)\n",
    "        return dp[(str1_idx, str2_idx)]\n",
    "    dp[(str1_idx, str2_idx)] = 1 + min(\n",
    "        edit_distance_helper(str1, str2, str1_idx, str2_idx - 1, dp),\n",
    "        edit_distance_helper(str1, str2, str1_idx - 1, str2_idx, dp),\n",
    "        edit_distance_helper(str1, str2, str1_idx - 1, str2_idx - 1, dp)\n",
    "    )\n",
    "    return dp[(str1_idx, str2_idx)]\n",
    "\n",
    "edit_distance('abx', 'bcd')"
   ]
  },
  {
   "cell_type": "code",
   "execution_count": 6,
   "metadata": {},
   "outputs": [
    {
     "data": {
      "text/plain": [
       "3"
      ]
     },
     "execution_count": 6,
     "metadata": {},
     "output_type": "execute_result"
    }
   ],
   "source": [
    "def edit_distance(str1, str2):\n",
    "    dp = [[-1 for str2_idx in range(len(str1) + 1)] for str1_idx in range(len(str2) + 1)]\n",
    "    for str1_idx in range(len(str1) + 1):\n",
    "        for str2_idx in range(len(str1) + 1):\n",
    "            if str1_idx == 0:\n",
    "                dp[str1_idx][str2_idx] = str2_idx\n",
    "                continue\n",
    "            if str2_idx == 0:\n",
    "                dp[str1_idx][str2_idx] = str1_idx\n",
    "                continue\n",
    "            if str1[str1_idx - 1] == str2[str2_idx - 1]:\n",
    "                dp[str1_idx][str2_idx] = dp[str1_idx - 1][str2_idx - 1]\n",
    "                continue\n",
    "            dp[str1_idx][str2_idx] = 1 + min(\n",
    "                dp[str1_idx][str2_idx - 1],\n",
    "                dp[str1_idx - 1][str2_idx],\n",
    "                dp[str1_idx - 1][str2_idx - 1]\n",
    "            )\n",
    "    return dp[len(str1)][len(str2)]\n",
    "    \n",
    "edit_distance('abx', 'bcd')"
   ]
  },
  {
   "cell_type": "code",
   "execution_count": 7,
   "metadata": {},
   "outputs": [
    {
     "data": {
      "text/plain": [
       "3"
      ]
     },
     "execution_count": 7,
     "metadata": {},
     "output_type": "execute_result"
    }
   ],
   "source": [
    "def edit_distance(str1, str2):\n",
    "    dp = [[-1 for str2_idx in range(len(str1) + 1)] for str1_idx in range(2)]\n",
    "    for str1_idx in range(len(str1) + 1):\n",
    "        for str2_idx in range(len(str1) + 1):\n",
    "            if str1_idx == 0:\n",
    "                dp[str1_idx % 2][str2_idx] = str2_idx\n",
    "                continue\n",
    "            if str2_idx == 0:\n",
    "                dp[str1_idx % 2][str2_idx] = str1_idx\n",
    "                continue\n",
    "            if str1[str1_idx - 1] == str2[str2_idx - 1]:\n",
    "                dp[str1_idx % 2][str2_idx] = dp[(str1_idx - 1) % 2][str2_idx - 1]\n",
    "                continue\n",
    "            dp[str1_idx % 2][str2_idx] = 1 + min(\n",
    "                dp[str1_idx % 2][str2_idx - 1],\n",
    "                dp[(str1_idx - 1) % 2][str2_idx],\n",
    "                dp[(str1_idx - 1) % 2][str2_idx - 1]\n",
    "            )\n",
    "    return dp[len(str1) % 2][len(str2)]\n",
    "    \n",
    "edit_distance('abx', 'bcd')"
   ]
  }
 ],
 "metadata": {
  "kernelspec": {
   "display_name": "Python 3",
   "language": "python",
   "name": "python3"
  },
  "language_info": {
   "codemirror_mode": {
    "name": "ipython",
    "version": 3
   },
   "file_extension": ".py",
   "mimetype": "text/x-python",
   "name": "python",
   "nbconvert_exporter": "python",
   "pygments_lexer": "ipython3",
   "version": "3.7.4"
  }
 },
 "nbformat": 4,
 "nbformat_minor": 4
}
