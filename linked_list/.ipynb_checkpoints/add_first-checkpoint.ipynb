{
 "cells": [
  {
   "cell_type": "code",
   "execution_count": 2,
   "metadata": {},
   "outputs": [],
   "source": [
    "class Node:\n",
    "    def __init__(self, data):\n",
    "        self.data = data\n",
    "        self.next = None"
   ]
  },
  {
   "cell_type": "code",
   "execution_count": 7,
   "metadata": {},
   "outputs": [],
   "source": [
    "class LinkedList:\n",
    "    def __init__(self):\n",
    "        self.head = None\n",
    "        \n",
    "    def __str__(self):\n",
    "        result = []\n",
    "        node = self.head\n",
    "        while node:\n",
    "            result.append(f'{node.data}')\n",
    "            node = node.next\n",
    "        return ' → '.join(result)\n",
    "    \n",
    "    def add_first(self, data):\n",
    "        new_node = Node(data)\n",
    "        new_node.next = self.head\n",
    "        self.head = new_node"
   ]
  },
  {
   "cell_type": "code",
   "execution_count": 8,
   "metadata": {},
   "outputs": [
    {
     "name": "stdout",
     "output_type": "stream",
     "text": [
      "\n",
      "1\n",
      "2 → 1\n",
      "3 → 2 → 1\n"
     ]
    }
   ],
   "source": [
    "linked_list = LinkedList()\n",
    "print(linked_list)\n",
    "linked_list.add_first(1)\n",
    "print(linked_list)\n",
    "linked_list.add_first(2)\n",
    "print(linked_list)\n",
    "linked_list.add_first(3)\n",
    "print(linked_list)"
   ]
  }
 ],
 "metadata": {
  "kernelspec": {
   "display_name": "Python 3",
   "language": "python",
   "name": "python3"
  },
  "language_info": {
   "codemirror_mode": {
    "name": "ipython",
    "version": 3
   },
   "file_extension": ".py",
   "mimetype": "text/x-python",
   "name": "python",
   "nbconvert_exporter": "python",
   "pygments_lexer": "ipython3",
   "version": "3.7.4"
  }
 },
 "nbformat": 4,
 "nbformat_minor": 4
}
