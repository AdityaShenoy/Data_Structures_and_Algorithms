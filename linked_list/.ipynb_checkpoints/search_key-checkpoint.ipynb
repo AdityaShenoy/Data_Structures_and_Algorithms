{
 "cells": [
  {
   "cell_type": "code",
   "execution_count": 1,
   "metadata": {},
   "outputs": [],
   "source": [
    "class Node:\n",
    "    def __init__(self, data):\n",
    "        self.data = data\n",
    "        self.next = None"
   ]
  },
  {
   "cell_type": "code",
   "execution_count": 16,
   "metadata": {},
   "outputs": [],
   "source": [
    "class LinkedList:\n",
    "    def __init__(self, array):\n",
    "        self.head = None\n",
    "        for element in array[::-1]:\n",
    "            new_node = Node(element)\n",
    "            new_node.next = self.head\n",
    "            self.head = new_node\n",
    "            \n",
    "    def __str__(self):\n",
    "        result = []\n",
    "        node = self.head\n",
    "        while node:\n",
    "            result.append(f'{node.data}')\n",
    "            node = node.next\n",
    "        return ' → '.join(result)\n",
    "    \n",
    "    def search_iterative(self, key):\n",
    "        index = 0\n",
    "        node = self.head\n",
    "        while node:\n",
    "            if node.data == key:\n",
    "                return index\n",
    "            index += 1\n",
    "            node = node.next\n",
    "        return -1\n",
    "    \n",
    "    def search_recursive(self, key):\n",
    "        return self._search_recursive_helper(self.head, key, 0)\n",
    "    \n",
    "    def _search_recursive_helper(self, node, key, index):\n",
    "        if not node:\n",
    "            return -1\n",
    "        if node.data == key:\n",
    "            return index\n",
    "        return self._search_recursive_helper(node.next, key, index + 1)"
   ]
  },
  {
   "cell_type": "code",
   "execution_count": 25,
   "metadata": {},
   "outputs": [
    {
     "data": {
      "text/plain": [
       "-1"
      ]
     },
     "execution_count": 25,
     "metadata": {},
     "output_type": "execute_result"
    }
   ],
   "source": [
    "LinkedList([1,2,3,4,5]).search_recursive(10)"
   ]
  }
 ],
 "metadata": {
  "kernelspec": {
   "display_name": "Python 3",
   "language": "python",
   "name": "python3"
  },
  "language_info": {
   "codemirror_mode": {
    "name": "ipython",
    "version": 3
   },
   "file_extension": ".py",
   "mimetype": "text/x-python",
   "name": "python",
   "nbconvert_exporter": "python",
   "pygments_lexer": "ipython3",
   "version": "3.7.4"
  }
 },
 "nbformat": 4,
 "nbformat_minor": 4
}
