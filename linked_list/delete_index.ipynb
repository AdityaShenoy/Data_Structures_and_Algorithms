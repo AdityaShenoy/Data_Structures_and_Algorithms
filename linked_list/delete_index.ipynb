{
 "cells": [
  {
   "cell_type": "code",
   "execution_count": 1,
   "metadata": {},
   "outputs": [],
   "source": [
    "class Node:\n",
    "    def __init__(self, data):\n",
    "        self.data = data\n",
    "        self.next = None"
   ]
  },
  {
   "cell_type": "code",
   "execution_count": 7,
   "metadata": {},
   "outputs": [],
   "source": [
    "class LinkedList:\n",
    "    def __init__(self, array):\n",
    "        self.head = None\n",
    "        for element in array[::-1]:\n",
    "            new_node = Node(element)\n",
    "            new_node.next = self.head\n",
    "            self.head = new_node\n",
    "            \n",
    "    def __str__(self):\n",
    "        result = []\n",
    "        node = self.head\n",
    "        while node:\n",
    "            result.append(f'{node.data}')\n",
    "            node = node.next\n",
    "        return ' → '.join(result)\n",
    "    \n",
    "    def delete_key(self, key):\n",
    "        node = self.head\n",
    "        prev = None\n",
    "        while node and (node.data != key):\n",
    "            prev = node\n",
    "            node = node.next\n",
    "        if node:\n",
    "            if prev:\n",
    "                prev.next = node.next\n",
    "            else:\n",
    "                self.head = node.next\n",
    "            del node\n",
    "        else:\n",
    "            raise ValueError('Key not found in the list')\n",
    "            \n",
    "    def delete_index(self, index):\n",
    "        if index < 0:\n",
    "            raise IndexError('Negative index is not valid')\n",
    "        node = self.head\n",
    "        prev = None\n",
    "        while node and index:\n",
    "            prev = node\n",
    "            node = node.next\n",
    "            index -= 1\n",
    "        if node:\n",
    "            if prev:\n",
    "                prev.next = node.next\n",
    "            else:\n",
    "                self.head = node.next\n",
    "            del node\n",
    "        else:\n",
    "            raise IndexError('Index greater than or equal to the length of the list')"
   ]
  },
  {
   "cell_type": "code",
   "execution_count": 13,
   "metadata": {},
   "outputs": [
    {
     "name": "stdout",
     "output_type": "stream",
     "text": [
      "1 → 2 → 3 → 4 → 5\n"
     ]
    },
    {
     "ename": "ValueError",
     "evalue": "Key not found in the list",
     "output_type": "error",
     "traceback": [
      "\u001b[1;31m---------------------------------------------------------------------------\u001b[0m",
      "\u001b[1;31mValueError\u001b[0m                                Traceback (most recent call last)",
      "\u001b[1;32m<ipython-input-13-0a4e97d5898f>\u001b[0m in \u001b[0;36m<module>\u001b[1;34m\u001b[0m\n\u001b[0;32m      1\u001b[0m \u001b[0mlinked_list\u001b[0m \u001b[1;33m=\u001b[0m \u001b[0mLinkedList\u001b[0m\u001b[1;33m(\u001b[0m\u001b[1;33m[\u001b[0m\u001b[1;36m1\u001b[0m\u001b[1;33m,\u001b[0m\u001b[1;36m2\u001b[0m\u001b[1;33m,\u001b[0m\u001b[1;36m3\u001b[0m\u001b[1;33m,\u001b[0m\u001b[1;36m4\u001b[0m\u001b[1;33m,\u001b[0m\u001b[1;36m5\u001b[0m\u001b[1;33m]\u001b[0m\u001b[1;33m)\u001b[0m\u001b[1;33m\u001b[0m\u001b[1;33m\u001b[0m\u001b[0m\n\u001b[0;32m      2\u001b[0m \u001b[0mprint\u001b[0m\u001b[1;33m(\u001b[0m\u001b[0mlinked_list\u001b[0m\u001b[1;33m)\u001b[0m\u001b[1;33m\u001b[0m\u001b[1;33m\u001b[0m\u001b[0m\n\u001b[1;32m----> 3\u001b[1;33m \u001b[0mlinked_list\u001b[0m\u001b[1;33m.\u001b[0m\u001b[0mdelete_key\u001b[0m\u001b[1;33m(\u001b[0m\u001b[1;36m6\u001b[0m\u001b[1;33m)\u001b[0m\u001b[1;33m\u001b[0m\u001b[1;33m\u001b[0m\u001b[0m\n\u001b[0m\u001b[0;32m      4\u001b[0m \u001b[0mprint\u001b[0m\u001b[1;33m(\u001b[0m\u001b[0mlinked_list\u001b[0m\u001b[1;33m)\u001b[0m\u001b[1;33m\u001b[0m\u001b[1;33m\u001b[0m\u001b[0m\n",
      "\u001b[1;32m<ipython-input-7-2773ed20b40b>\u001b[0m in \u001b[0;36mdelete_key\u001b[1;34m(self, key)\u001b[0m\n\u001b[0;32m     28\u001b[0m             \u001b[1;32mdel\u001b[0m \u001b[0mnode\u001b[0m\u001b[1;33m\u001b[0m\u001b[1;33m\u001b[0m\u001b[0m\n\u001b[0;32m     29\u001b[0m         \u001b[1;32melse\u001b[0m\u001b[1;33m:\u001b[0m\u001b[1;33m\u001b[0m\u001b[1;33m\u001b[0m\u001b[0m\n\u001b[1;32m---> 30\u001b[1;33m             \u001b[1;32mraise\u001b[0m \u001b[0mValueError\u001b[0m\u001b[1;33m(\u001b[0m\u001b[1;34m'Key not found in the list'\u001b[0m\u001b[1;33m)\u001b[0m\u001b[1;33m\u001b[0m\u001b[1;33m\u001b[0m\u001b[0m\n\u001b[0m",
      "\u001b[1;31mValueError\u001b[0m: Key not found in the list"
     ]
    }
   ],
   "source": [
    "linked_list = LinkedList([1,2,3,4,5])\n",
    "print(linked_list)\n",
    "linked_list.delete_key(6)\n",
    "print(linked_list)"
   ]
  }
 ],
 "metadata": {
  "kernelspec": {
   "display_name": "Python 3",
   "language": "python",
   "name": "python3"
  },
  "language_info": {
   "codemirror_mode": {
    "name": "ipython",
    "version": 3
   },
   "file_extension": ".py",
   "mimetype": "text/x-python",
   "name": "python",
   "nbconvert_exporter": "python",
   "pygments_lexer": "ipython3",
   "version": "3.7.4"
  }
 },
 "nbformat": 4,
 "nbformat_minor": 4
}
