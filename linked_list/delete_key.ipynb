{
 "cells": [
  {
   "cell_type": "code",
   "execution_count": 1,
   "metadata": {},
   "outputs": [],
   "source": [
    "class Node:\n",
    "    def __init__(self, data):\n",
    "        self.data = data\n",
    "        self.next = None"
   ]
  },
  {
   "cell_type": "code",
   "execution_count": 2,
   "metadata": {},
   "outputs": [],
   "source": [
    "class LinkedList:\n",
    "    def __init__(self, array):\n",
    "        self.head = None\n",
    "        for element in array[::-1]:\n",
    "            new_node = Node(element)\n",
    "            new_node.next = self.head\n",
    "            self.head = new_node\n",
    "            \n",
    "    def __str__(self):\n",
    "        result = []\n",
    "        node = self.head\n",
    "        while node:\n",
    "            result.append(f'{node.data}')\n",
    "            node = node.next\n",
    "        return ' → '.join(result)\n",
    "    \n",
    "    def delete_key(self, key):\n",
    "        prev = None\n",
    "        node = self.head\n",
    "        while node and (node.data != key):\n",
    "            prev = node\n",
    "            node = node.next\n",
    "        if node:\n",
    "            if prev:\n",
    "                prev.next = node.next\n",
    "            else:\n",
    "                self.head = node.next\n",
    "            del node\n",
    "        else:\n",
    "            raise ValueError('Key not found in the list')"
   ]
  },
  {
   "cell_type": "code",
   "execution_count": 7,
   "metadata": {},
   "outputs": [
    {
     "name": "stdout",
     "output_type": "stream",
     "text": [
      "1 → 2 → 3\n",
      "1 → 3\n",
      "1\n",
      "\n"
     ]
    }
   ],
   "source": [
    "linked_list = LinkedList([1, 2, 3])\n",
    "print(linked_list)\n",
    "linked_list.delete_key(2)\n",
    "print(linked_list)\n",
    "linked_list.delete_key(3)\n",
    "print(linked_list)\n",
    "linked_list.delete_key(1)\n",
    "print(linked_list)"
   ]
  }
 ],
 "metadata": {
  "kernelspec": {
   "display_name": "Python 3",
   "language": "python",
   "name": "python3"
  },
  "language_info": {
   "codemirror_mode": {
    "name": "ipython",
    "version": 3
   },
   "file_extension": ".py",
   "mimetype": "text/x-python",
   "name": "python",
   "nbconvert_exporter": "python",
   "pygments_lexer": "ipython3",
   "version": "3.7.4"
  }
 },
 "nbformat": 4,
 "nbformat_minor": 4
}
