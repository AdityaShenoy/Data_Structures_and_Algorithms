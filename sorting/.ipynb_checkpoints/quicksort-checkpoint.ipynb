{
 "cells": [
  {
   "cell_type": "code",
   "execution_count": 6,
   "metadata": {},
   "outputs": [
    {
     "data": {
      "text/plain": [
       "[1, 1, 2]"
      ]
     },
     "execution_count": 6,
     "metadata": {},
     "output_type": "execute_result"
    }
   ],
   "source": [
    "# x b z y a c m\n",
    "# c b z y a m x\n",
    "# b a c m x z y\n",
    "\n",
    "def quicksort(arr):\n",
    "    quicksort_helper(arr, 0, len(arr) - 1)\n",
    "    return arr\n",
    "\n",
    "def quicksort_helper(arr, left, right):\n",
    "    if left >= right:\n",
    "        return\n",
    "    pivot = partition(arr, left, right)\n",
    "    quicksort_helper(arr, left, pivot - 1)\n",
    "    quicksort_helper(arr, pivot + 1, right)\n",
    "\n",
    "def partition(arr, left, right):\n",
    "    pivot = right\n",
    "    i = left\n",
    "    while i < pivot:\n",
    "#         debug = arr[:]\n",
    "#         debug[i] = f'i = {debug[i]}'\n",
    "#         debug[pivot] = f'pivot = {debug[pivot]}'\n",
    "#         input(str(debug).replace('\\'', ''))\n",
    "        if arr[i] > arr[pivot]:\n",
    "            arr[i], arr[pivot - 1], arr[pivot] = arr[pivot - 1], arr[pivot], arr[i]\n",
    "            pivot -= 1\n",
    "        else:\n",
    "            i += 1\n",
    "    return pivot\n",
    "\n",
    "quicksort([1, 1, 2])"
   ]
  }
 ],
 "metadata": {
  "kernelspec": {
   "display_name": "Python 3",
   "language": "python",
   "name": "python3"
  },
  "language_info": {
   "codemirror_mode": {
    "name": "ipython",
    "version": 3
   },
   "file_extension": ".py",
   "mimetype": "text/x-python",
   "name": "python",
   "nbconvert_exporter": "python",
   "pygments_lexer": "ipython3",
   "version": "3.7.4"
  }
 },
 "nbformat": 4,
 "nbformat_minor": 4
}
